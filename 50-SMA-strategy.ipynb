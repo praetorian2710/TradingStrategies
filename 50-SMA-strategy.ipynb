{
 "cells": [
  {
   "cell_type": "code",
   "execution_count": 3,
   "id": "1ada079d",
   "metadata": {
    "scrolled": false
   },
   "outputs": [
    {
     "name": "stdout",
     "output_type": "stream",
     "text": [
      "Requirement already satisfied: yfinance in d:\\anaconda\\lib\\site-packages (0.2.36)\n",
      "Requirement already satisfied: pandas>=1.3.0 in d:\\anaconda\\lib\\site-packages (from yfinance) (2.0.3)\n",
      "Requirement already satisfied: numpy>=1.16.5 in d:\\anaconda\\lib\\site-packages (from yfinance) (1.24.3)\n",
      "Requirement already satisfied: requests>=2.31 in d:\\anaconda\\lib\\site-packages (from yfinance) (2.31.0)\n",
      "Requirement already satisfied: multitasking>=0.0.7 in d:\\anaconda\\lib\\site-packages (from yfinance) (0.0.11)\n",
      "Requirement already satisfied: lxml>=4.9.1 in d:\\anaconda\\lib\\site-packages (from yfinance) (4.9.3)\n",
      "Requirement already satisfied: appdirs>=1.4.4 in d:\\anaconda\\lib\\site-packages (from yfinance) (1.4.4)\n",
      "Requirement already satisfied: pytz>=2022.5 in d:\\anaconda\\lib\\site-packages (from yfinance) (2023.3.post1)\n",
      "Requirement already satisfied: frozendict>=2.3.4 in d:\\anaconda\\lib\\site-packages (from yfinance) (2.4.0)\n",
      "Requirement already satisfied: peewee>=3.16.2 in d:\\anaconda\\lib\\site-packages (from yfinance) (3.17.1)\n",
      "Requirement already satisfied: beautifulsoup4>=4.11.1 in d:\\anaconda\\lib\\site-packages (from yfinance) (4.12.2)\n",
      "Requirement already satisfied: html5lib>=1.1 in d:\\anaconda\\lib\\site-packages (from yfinance) (1.1)\n",
      "Requirement already satisfied: soupsieve>1.2 in d:\\anaconda\\lib\\site-packages (from beautifulsoup4>=4.11.1->yfinance) (2.4)\n",
      "Requirement already satisfied: six>=1.9 in d:\\anaconda\\lib\\site-packages (from html5lib>=1.1->yfinance) (1.16.0)\n",
      "Requirement already satisfied: webencodings in d:\\anaconda\\lib\\site-packages (from html5lib>=1.1->yfinance) (0.5.1)\n",
      "Requirement already satisfied: python-dateutil>=2.8.2 in d:\\anaconda\\lib\\site-packages (from pandas>=1.3.0->yfinance) (2.8.2)\n",
      "Requirement already satisfied: tzdata>=2022.1 in d:\\anaconda\\lib\\site-packages (from pandas>=1.3.0->yfinance) (2023.3)\n",
      "Requirement already satisfied: charset-normalizer<4,>=2 in d:\\anaconda\\lib\\site-packages (from requests>=2.31->yfinance) (2.0.4)\n",
      "Requirement already satisfied: idna<4,>=2.5 in d:\\anaconda\\lib\\site-packages (from requests>=2.31->yfinance) (3.4)\n",
      "Requirement already satisfied: urllib3<3,>=1.21.1 in d:\\anaconda\\lib\\site-packages (from requests>=2.31->yfinance) (1.26.16)\n",
      "Requirement already satisfied: certifi>=2017.4.17 in d:\\anaconda\\lib\\site-packages (from requests>=2.31->yfinance) (2023.7.22)\n",
      "Collecting pandas-ta\n",
      "  Using cached pandas_ta-0.3.14b0-py3-none-any.whl\n",
      "Requirement already satisfied: pandas in d:\\anaconda\\lib\\site-packages (from pandas-ta) (2.0.3)\n",
      "Requirement already satisfied: python-dateutil>=2.8.2 in d:\\anaconda\\lib\\site-packages (from pandas->pandas-ta) (2.8.2)\n",
      "Requirement already satisfied: pytz>=2020.1 in d:\\anaconda\\lib\\site-packages (from pandas->pandas-ta) (2023.3.post1)\n",
      "Requirement already satisfied: tzdata>=2022.1 in d:\\anaconda\\lib\\site-packages (from pandas->pandas-ta) (2023.3)\n",
      "Requirement already satisfied: numpy>=1.21.0 in d:\\anaconda\\lib\\site-packages (from pandas->pandas-ta) (1.24.3)\n",
      "Requirement already satisfied: six>=1.5 in d:\\anaconda\\lib\\site-packages (from python-dateutil>=2.8.2->pandas->pandas-ta) (1.16.0)\n",
      "Installing collected packages: pandas-ta\n",
      "Successfully installed pandas-ta-0.3.14b0\n"
     ]
    }
   ],
   "source": [
    "!pip install yfinance\n",
    "!pip install pandas-ta"
   ]
  },
  {
   "cell_type": "code",
   "execution_count": 4,
   "id": "38ed0cdf",
   "metadata": {},
   "outputs": [],
   "source": [
    "import yfinance as yf\n",
    "import pandas as pd\n",
    "import pandas_ta as ta\n",
    "import numpy as np\n",
    "from datetime import datetime as dt\n",
    "import matplotlib.pyplot as plt\n",
    "from datetime import timedelta as delta\n",
    "import numpy as np\n",
    "import os\n",
    "import seaborn as sb"
   ]
  },
  {
   "cell_type": "code",
   "execution_count": 23,
   "id": "560ff37b",
   "metadata": {},
   "outputs": [
    {
     "name": "stderr",
     "output_type": "stream",
     "text": [
      "[*********************100%%**********************]  1 of 1 completed\n"
     ]
    },
    {
     "data": {
      "text/html": [
       "<div>\n",
       "<style scoped>\n",
       "    .dataframe tbody tr th:only-of-type {\n",
       "        vertical-align: middle;\n",
       "    }\n",
       "\n",
       "    .dataframe tbody tr th {\n",
       "        vertical-align: top;\n",
       "    }\n",
       "\n",
       "    .dataframe thead th {\n",
       "        text-align: right;\n",
       "    }\n",
       "</style>\n",
       "<table border=\"1\" class=\"dataframe\">\n",
       "  <thead>\n",
       "    <tr style=\"text-align: right;\">\n",
       "      <th></th>\n",
       "      <th>Open</th>\n",
       "      <th>High</th>\n",
       "      <th>Low</th>\n",
       "      <th>Close</th>\n",
       "      <th>Adj Close</th>\n",
       "      <th>Volume</th>\n",
       "    </tr>\n",
       "  </thead>\n",
       "  <tbody>\n",
       "    <tr>\n",
       "      <th>count</th>\n",
       "      <td>2554.000000</td>\n",
       "      <td>2554.000000</td>\n",
       "      <td>2554.000000</td>\n",
       "      <td>2554.000000</td>\n",
       "      <td>2554.000000</td>\n",
       "      <td>2.554000e+03</td>\n",
       "    </tr>\n",
       "    <tr>\n",
       "      <th>mean</th>\n",
       "      <td>0.825264</td>\n",
       "      <td>0.835013</td>\n",
       "      <td>0.810535</td>\n",
       "      <td>0.821661</td>\n",
       "      <td>0.821661</td>\n",
       "      <td>7.974192e+05</td>\n",
       "    </tr>\n",
       "    <tr>\n",
       "      <th>std</th>\n",
       "      <td>1.068190</td>\n",
       "      <td>1.089149</td>\n",
       "      <td>1.034574</td>\n",
       "      <td>1.058870</td>\n",
       "      <td>1.058870</td>\n",
       "      <td>5.320314e+06</td>\n",
       "    </tr>\n",
       "    <tr>\n",
       "      <th>min</th>\n",
       "      <td>0.024333</td>\n",
       "      <td>0.024333</td>\n",
       "      <td>0.024333</td>\n",
       "      <td>0.024333</td>\n",
       "      <td>0.024333</td>\n",
       "      <td>0.000000e+00</td>\n",
       "    </tr>\n",
       "    <tr>\n",
       "      <th>25%</th>\n",
       "      <td>0.291996</td>\n",
       "      <td>0.300107</td>\n",
       "      <td>0.291996</td>\n",
       "      <td>0.291996</td>\n",
       "      <td>0.291996</td>\n",
       "      <td>0.000000e+00</td>\n",
       "    </tr>\n",
       "    <tr>\n",
       "      <th>50%</th>\n",
       "      <td>0.413661</td>\n",
       "      <td>0.413661</td>\n",
       "      <td>0.405550</td>\n",
       "      <td>0.409606</td>\n",
       "      <td>0.409606</td>\n",
       "      <td>2.400000e+01</td>\n",
       "    </tr>\n",
       "    <tr>\n",
       "      <th>75%</th>\n",
       "      <td>0.713768</td>\n",
       "      <td>0.713768</td>\n",
       "      <td>0.713768</td>\n",
       "      <td>0.713768</td>\n",
       "      <td>0.713768</td>\n",
       "      <td>1.232800e+04</td>\n",
       "    </tr>\n",
       "    <tr>\n",
       "      <th>max</th>\n",
       "      <td>4.725000</td>\n",
       "      <td>4.725000</td>\n",
       "      <td>4.525000</td>\n",
       "      <td>4.525000</td>\n",
       "      <td>4.525000</td>\n",
       "      <td>1.039279e+08</td>\n",
       "    </tr>\n",
       "  </tbody>\n",
       "</table>\n",
       "</div>"
      ],
      "text/plain": [
       "              Open         High          Low        Close    Adj Close  \\\n",
       "count  2554.000000  2554.000000  2554.000000  2554.000000  2554.000000   \n",
       "mean      0.825264     0.835013     0.810535     0.821661     0.821661   \n",
       "std       1.068190     1.089149     1.034574     1.058870     1.058870   \n",
       "min       0.024333     0.024333     0.024333     0.024333     0.024333   \n",
       "25%       0.291996     0.300107     0.291996     0.291996     0.291996   \n",
       "50%       0.413661     0.413661     0.405550     0.409606     0.409606   \n",
       "75%       0.713768     0.713768     0.713768     0.713768     0.713768   \n",
       "max       4.725000     4.725000     4.525000     4.525000     4.525000   \n",
       "\n",
       "             Volume  \n",
       "count  2.554000e+03  \n",
       "mean   7.974192e+05  \n",
       "std    5.320314e+06  \n",
       "min    0.000000e+00  \n",
       "25%    0.000000e+00  \n",
       "50%    2.400000e+01  \n",
       "75%    1.232800e+04  \n",
       "max    1.039279e+08  "
      ]
     },
     "execution_count": 23,
     "metadata": {},
     "output_type": "execute_result"
    }
   ],
   "source": [
    "symbol='ESSENTIA.NS'\n",
    "df=yf.download(symbol, start='2001-01-01', end='2024-01-01')\n",
    "df.describe()"
   ]
  },
  {
   "cell_type": "code",
   "execution_count": 24,
   "id": "4733f718",
   "metadata": {},
   "outputs": [],
   "source": [
    "df['20SMA']=df['Close'].rolling(window=20).mean()\n",
    "df['50SMA']=df['Close'].rolling(window=50).mean()\n",
    "df['100SMA']=df['Close'].rolling(window=100).mean()\n",
    "df['200SMA']=df['Close'].rolling(window=200).mean()"
   ]
  },
  {
   "cell_type": "code",
   "execution_count": 25,
   "id": "29cb889f",
   "metadata": {},
   "outputs": [],
   "source": [
    "qty_holding=0\n",
    "total_cost=0\n",
    "pnl=[]\n",
    "\n",
    "for i in range(21, len(df)-1):\n",
    "    if df['Close'][i]>df['Open'][i-1] and df['Close'][i]>df['100SMA'][i]:\n",
    "        price_buy=df['Open'][i+1]\n",
    "        qty_holding+=1\n",
    "        total_cost=price_buy*1\n",
    "    elif df['Open'][i]> df['Close'][i]:\n",
    "        price_sell=df['Open'][i+1]\n",
    "        if qty_holding>0:\n",
    "            pnl.append((price_sell-total_cost/qty_holding)*qty_holding)\n",
    "            qty_holding=0\n",
    "            total_cost=0"
   ]
  },
  {
   "cell_type": "code",
   "execution_count": 26,
   "id": "b365db77",
   "metadata": {},
   "outputs": [],
   "source": [
    "pnl_df=pd.DataFrame(pnl,columns=['P&L'])\n",
    "pnl_df['Mean_returns']=pnl_df['P&L'].cumsum()"
   ]
  },
  {
   "cell_type": "code",
   "execution_count": 27,
   "id": "4006e085",
   "metadata": {},
   "outputs": [
    {
     "data": {
      "image/png": "[encoded data removed]",
      "text/plain": [
       "<Figure size 2500x600 with 1 Axes>"
      ]
     },
     "metadata": {},
     "output_type": "display_data"
    }
   ],
   "source": [
    "plt.figure(figsize=(25,6))\n",
    "plt.plot(pnl_df['Mean_returns'],label=\"Mean Returns\", color='green')\n",
    "plt.xlabel('Trade Number')\n",
    "plt.ylabel('Returns')\n",
    "plt.legend()\n",
    "plt.show()"
   ]
  },
  {
   "cell_type": "code",
   "execution_count": null,
   "id": "a32aeab8",
   "metadata": {},
   "outputs": [],
   "source": []
  }
 ],
 "metadata": {
  "kernelspec": {
   "display_name": "Python 3 (ipykernel)",
   "language": "python",
   "name": "python3"
  },
  "language_info": {
   "codemirror_mode": {
    "name": "ipython",
    "version": 3
   },
   "file_extension": ".py",
   "mimetype": "text/x-python",
   "name": "python",
   "nbconvert_exporter": "python",
   "pygments_lexer": "ipython3",
   "version": "3.11.5"
  }
 },
 "nbformat": 4,
 "nbformat_minor": 5
}
